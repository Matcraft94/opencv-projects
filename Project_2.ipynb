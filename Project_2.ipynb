{
 "cells": [
  {
   "attachments": {},
   "cell_type": "markdown",
   "metadata": {},
   "source": [
    "# Proyecto 2"
   ]
  },
  {
   "cell_type": "code",
   "execution_count": null,
   "metadata": {},
   "outputs": [],
   "source": [
    "import cv2\n",
    "import numpy as np\n",
    "import matplotlib.pyplot as plt"
   ]
  },
  {
   "cell_type": "code",
   "execution_count": null,
   "metadata": {},
   "outputs": [],
   "source": [
    "# 1. Seleccionar un video corto\n",
    "video_path = \"path/to/your/video.mp4\""
   ]
  },
  {
   "cell_type": "code",
   "execution_count": null,
   "metadata": {},
   "outputs": [],
   "source": [
    "# 2. Cargar el video utilizando OpenCV\n",
    "video = cv2.VideoCapture(video_path)"
   ]
  },
  {
   "cell_type": "code",
   "execution_count": null,
   "metadata": {},
   "outputs": [],
   "source": [
    "# 3. Definir una región de interés\n",
    "_, first_frame = video.read()\n",
    "bbox = cv2.selectROI(\"Select Object\", first_frame, False)\n",
    "cv2.destroyAllWindows()"
   ]
  },
  {
   "cell_type": "code",
   "execution_count": null,
   "metadata": {},
   "outputs": [],
   "source": [
    "# 4. Implementar al menos dos algoritmos de seguimiento de objetos\n",
    "tracker_types = ['MOSSE', 'KCF']\n",
    "trackers = [cv2.TrackerMOSSE_create(), cv2.TrackerKCF_create()]\n",
    "\n",
    "# Inicializar los trackers con el primer frame y la región de interés\n",
    "for tracker in trackers:\n",
    "    tracker.init(first_frame, bbox)"
   ]
  },
  {
   "cell_type": "code",
   "execution_count": null,
   "metadata": {},
   "outputs": [],
   "source": [
    "# 5. Para cada modelo, mostrar la trayectoria del objeto en el plano XY\n",
    "centers = {t: [] for t in tracker_types}\n",
    "\n",
    "while True:\n",
    "    ret, frame = video.read()\n",
    "\n",
    "    if not ret:\n",
    "        break\n",
    "\n",
    "    for i, tracker in enumerate(trackers):\n",
    "        ret, bbox = tracker.update(frame)\n",
    "\n",
    "        if ret:\n",
    "            x, y, w, h = [int(e) for e in bbox]\n",
    "            cv2.rectangle(frame, (x, y), (x + w, y + h), (255, 0, 0), 2)\n",
    "            center = (x + w // 2, y + h // 2)\n",
    "            centers[tracker_types[i]].append(center)\n",
    "\n",
    "            # Dibujar la trayectoria en el video\n",
    "            for j in range(1, len(centers[tracker_types[i]])):\n",
    "                cv2.line(frame, centers[tracker_types[i]][j - 1], centers[tracker_types[i]][j], (0, 255, 0), 2)\n",
    "        else:\n",
    "            cv2.putText(frame, \"Lost\", (100, 80), cv2.FONT_HERSHEY_SIMPLEX, 0.75, (0, 0, 255), 2)\n",
    "\n",
    "    cv2.imshow(\"Tracking\", frame)\n",
    "\n",
    "    if cv2.waitKey(1) & 0xFF == ord(\"q\"):\n",
    "        break\n",
    "\n",
    "video.release()\n",
    "cv2.destroyAllWindows()"
   ]
  },
  {
   "cell_type": "code",
   "execution_count": null,
   "metadata": {},
   "outputs": [],
   "source": [
    "# 5.2. Graficar la trayectoria del objeto en el plano XY\n",
    "fig, ax = plt.subplots(1, 2, figsize=(10, 5))\n",
    "\n",
    "for i, t in enumerate(tracker_types):\n",
    "    xs, ys = zip(*centers[t])\n",
    "    ax[i].plot(xs, ys, 'r-')\n",
    "    ax[i].set_title(f\"Trajectory using {t} tracker\")\n",
    "    ax[i].set_xlabel(\"X\")\n",
    "    ax[i].set_ylabel(\"Y\")\n",
    "    ax[i].invert_yaxis()\n",
    "\n",
    "plt.show()"
   ]
  }
 ],
 "metadata": {
  "language_info": {
   "name": "python"
  },
  "orig_nbformat": 4
 },
 "nbformat": 4,
 "nbformat_minor": 2
}
