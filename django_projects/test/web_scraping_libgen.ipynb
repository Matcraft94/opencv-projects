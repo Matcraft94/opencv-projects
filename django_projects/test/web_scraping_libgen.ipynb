{
 "cells": [
  {
   "cell_type": "code",
   "execution_count": 1,
   "metadata": {},
   "outputs": [],
   "source": [
    "import requests\n",
    "from selenium import webdriver\n",
    "from bs4 import BeautifulSoup\n",
    "from requests.exceptions import ConnectionError\n",
    "from time import sleep\n",
    "import pandas as pd"
   ]
  },
  {
   "cell_type": "code",
   "execution_count": 2,
   "metadata": {},
   "outputs": [],
   "source": [
    "from selenium import webdriver\n",
    "from selenium.webdriver.chrome.options import Options\n",
    "from selenium.webdriver.chrome.service import Service\n",
    "from webdriver_manager.chrome import ChromeDriverManager\n",
    "from selenium.webdriver.common.by import By \n",
    "from selenium.webdriver.common.keys import Keys"
   ]
  },
  {
   "cell_type": "code",
   "execution_count": 3,
   "metadata": {},
   "outputs": [],
   "source": [
    "options = Options()\n",
    "options.add_argument('--headless')\n",
    "options.add_argument('--no-sandbox')\n",
    "options.add_argument('--disable-dev-shm-usage')\n",
    "driver = webdriver.Chrome(service=Service(ChromeDriverManager().install()), options=options)"
   ]
  },
  {
   "cell_type": "code",
   "execution_count": 4,
   "metadata": {},
   "outputs": [],
   "source": [
    "url = 'https://www.libgen.is'\n",
    "driver.get(url)\n",
    "html = driver.page_source"
   ]
  },
  {
   "cell_type": "code",
   "execution_count": 5,
   "metadata": {},
   "outputs": [],
   "source": [
    "search_field = driver.find_element(By.NAME, 'req')\n",
    "search_button = driver.find_element(By.XPATH, \"//input[@value='Search!']\")"
   ]
  },
  {
   "cell_type": "code",
   "execution_count": 6,
   "metadata": {},
   "outputs": [],
   "source": [
    "search_query = 'Laurence Evans'\n",
    "search_field.send_keys(search_query)\n",
    "search_button.click()"
   ]
  },
  {
   "cell_type": "code",
   "execution_count": 7,
   "metadata": {},
   "outputs": [],
   "source": [
    "html = driver.page_source"
   ]
  },
  {
   "cell_type": "code",
   "execution_count": 9,
   "metadata": {},
   "outputs": [],
   "source": [
    "soup = BeautifulSoup(html, 'html.parser')"
   ]
  },
  {
   "cell_type": "code",
   "execution_count": 10,
   "metadata": {},
   "outputs": [
    {
     "name": "stdout",
     "output_type": "stream",
     "text": [
      "Author: Author(s)\n",
      "Title: Title\n",
      "Publisher: Publisher\n",
      "Year: Year\n",
      "Pages: Pages\n",
      "Language: Language\n",
      "Size: Size\n",
      "Extension: Extension\n",
      "Mirrors: []\n",
      "--------\n",
      "Author: Laurence G Felker\n",
      "Title: The Evans equations of Unified Field Theory 9781845492144, 1845492145\n",
      "Publisher: Arima Publishing\n",
      "Year: 2005\n",
      "Pages: 373\n",
      "Language: English\n",
      "Size: 3 Mb\n",
      "Extension: pdf\n",
      "Mirrors: ['https://library.bz/main/edit/5862F22C2EE265252E504631A3827AF9']\n",
      "--------\n",
      "Author: Evans, Peter; McLean, William F.; Silver, Pete\n",
      "Title: Structural engineering for architects : a handbook 1780670559, 978-178067-055-3, 9781780674261, 1780674260\n",
      "Publisher: Laurence King Publishing\n",
      "Year: 2013\n",
      "Pages: 208[209]\n",
      "Language: English\n",
      "Size: 17 Mb\n",
      "Extension: pdf\n",
      "Mirrors: ['https://library.bz/main/edit/EA91986CFFDC22DB217C736BD7AAB2FF']\n",
      "--------\n",
      "Author: Laurence Harris , Jerry Coakley , Martin Croasdale , Trevor Evans\n",
      "Title: New Perspectives on the Financial System 0709937415\n",
      "Publisher: Croom Helm Ltd\n",
      "Year: 1988\n",
      "Pages: [207]\n",
      "Language: English\n",
      "Size: 178 Mb\n",
      "Extension: pdf\n",
      "Mirrors: ['https://library.bz/main/edit/3B7B64B2914187D044366F8C7BCA45D7']\n",
      "--------\n",
      "Author: C. Jane Evans, Laurence Jones, Peter Ellis\n",
      "Title: BAR British Archaeological Reports British Series 313Severn Valley Ware Production at Newland Hopfields: Excavation of a Romano-British kiln site at North End Farm, Great Malvern, Worcestershire in 1992 and 1994 9781841712048, 9781407319490\n",
      "Publisher: BAR Publishing\n",
      "Year: 2000\n",
      "Pages: [97]\n",
      "Language: English\n",
      "Size: 14 Mb\n",
      "Extension: pdf\n",
      "Mirrors: ['https://library.bz/main/edit/C10F64DB0FDBF5659BF2BDBC43217786']\n",
      "--------\n"
     ]
    }
   ],
   "source": [
    "for tr in soup.find_all('tr')[1:]:  # Se salta el primer <tr> que normalmente son los encabezados\n",
    "    tds = tr.find_all('td')\n",
    "    if len(tds) > 9:  # Asumiendo que hay al menos 10 columnas: ID, autor, título, etc.\n",
    "        # Ejemplo básico para extraer datos comunes\n",
    "        author = tds[1].text.strip()\n",
    "        title = tds[2].text.strip()\n",
    "        publisher = tds[3].text.strip()\n",
    "        year = tds[4].text.strip()\n",
    "        pages = tds[5].text.strip()\n",
    "        language = tds[6].text.strip()\n",
    "        size = tds[7].text.strip()\n",
    "        extension = tds[8].text.strip()\n",
    "        # Enlaces espejo, asumiendo que están en la última columna\n",
    "        mirrors = [a['href'] for a in tds[-1].find_all('a')]\n",
    "\n",
    "        print(f\"Author: {author}\")\n",
    "        print(f\"Title: {title}\")\n",
    "        print(f\"Publisher: {publisher}\")\n",
    "        print(f\"Year: {year}\")\n",
    "        print(f\"Pages: {pages}\")\n",
    "        print(f\"Language: {language}\")\n",
    "        print(f\"Size: {size}\")\n",
    "        print(f\"Extension: {extension}\")\n",
    "        print(f\"Mirrors: {mirrors}\")\n",
    "        print(\"--------\")"
   ]
  },
  {
   "cell_type": "code",
   "execution_count": 11,
   "metadata": {},
   "outputs": [
    {
     "name": "stdout",
     "output_type": "stream",
     "text": [
      "{'Author': 'Laurence G Felker', 'Title': 'The Evans equations of Unified Field Theory 9781845492144, 1845492145', 'Publisher': 'Arima Publishing', 'Year': '2005', 'Pages': '373', 'Language': 'English', 'Size': '3 Mb', 'Extension': 'pdf', 'Mirrors': ['https://library.bz/main/edit/5862F22C2EE265252E504631A3827AF9']}\n",
      "{'Author': 'Evans, Peter; McLean, William F.; Silver, Pete', 'Title': 'Structural engineering for architects : a handbook 1780670559, 978-178067-055-3, 9781780674261, 1780674260', 'Publisher': 'Laurence King Publishing', 'Year': '2013', 'Pages': '208[209]', 'Language': 'English', 'Size': '17 Mb', 'Extension': 'pdf', 'Mirrors': ['https://library.bz/main/edit/EA91986CFFDC22DB217C736BD7AAB2FF']}\n",
      "{'Author': 'Laurence Harris , Jerry Coakley , Martin Croasdale , Trevor Evans', 'Title': 'New Perspectives on the Financial System 0709937415', 'Publisher': 'Croom Helm Ltd', 'Year': '1988', 'Pages': '[207]', 'Language': 'English', 'Size': '178 Mb', 'Extension': 'pdf', 'Mirrors': ['https://library.bz/main/edit/3B7B64B2914187D044366F8C7BCA45D7']}\n",
      "{'Author': 'C. Jane Evans, Laurence Jones, Peter Ellis', 'Title': 'BAR British Archaeological Reports British Series 313Severn Valley Ware Production at Newland Hopfields: Excavation of a Romano-British kiln site at North End Farm, Great Malvern, Worcestershire in 1992 and 1994 9781841712048, 9781407319490', 'Publisher': 'BAR Publishing', 'Year': '2000', 'Pages': '[97]', 'Language': 'English', 'Size': '14 Mb', 'Extension': 'pdf', 'Mirrors': ['https://library.bz/main/edit/C10F64DB0FDBF5659BF2BDBC43217786']}\n"
     ]
    }
   ],
   "source": [
    "books_data = []\n",
    "\n",
    "for tr in soup.find_all('tr')[1:]:  # Se salta el primer <tr> que son los encabezados\n",
    "    tds = tr.find_all('td')\n",
    "    if len(tds) > 9:  # Verifica que haya suficientes columnas\n",
    "        # Crea un diccionario con los datos de cada libro\n",
    "        book_dict = {\n",
    "            \"Author\": tds[1].text.strip(),\n",
    "            \"Title\": tds[2].text.strip(),\n",
    "            \"Publisher\": tds[3].text.strip(),\n",
    "            \"Year\": tds[4].text.strip(),\n",
    "            \"Pages\": tds[5].text.strip(),\n",
    "            \"Language\": tds[6].text.strip(),\n",
    "            \"Size\": tds[7].text.strip(),\n",
    "            \"Extension\": tds[8].text.strip(),\n",
    "            \"Mirrors\": [a['href'] for a in tds[-1].find_all('a')],\n",
    "        }\n",
    "        if 'pdf' in str(book_dict.get('Extension')):\n",
    "            print(book_dict)\n",
    "            # Agrega el diccionario a la lista\n",
    "            books_data.append(book_dict)"
   ]
  },
  {
   "cell_type": "code",
   "execution_count": 12,
   "metadata": {},
   "outputs": [],
   "source": [
    "# Convert the list of dictionaries into a list of tuples\n",
    "books_data = [tuple(book.items()) for book in books_data]\n",
    "\n",
    "# Convert the list of tuples back into a list of dictionaries\n",
    "books_data = [dict(book) for book in books_data]"
   ]
  },
  {
   "cell_type": "code",
   "execution_count": 13,
   "metadata": {},
   "outputs": [
    {
     "data": {
      "text/plain": [
       "[{'Author': 'Laurence G Felker',\n",
       "  'Title': 'The Evans equations of Unified Field Theory 9781845492144, 1845492145',\n",
       "  'Publisher': 'Arima Publishing',\n",
       "  'Year': '2005',\n",
       "  'Pages': '373',\n",
       "  'Language': 'English',\n",
       "  'Size': '3 Mb',\n",
       "  'Extension': 'pdf',\n",
       "  'Mirrors': ['https://library.bz/main/edit/5862F22C2EE265252E504631A3827AF9']},\n",
       " {'Author': 'Evans, Peter; McLean, William F.; Silver, Pete',\n",
       "  'Title': 'Structural engineering for architects : a handbook 1780670559, 978-178067-055-3, 9781780674261, 1780674260',\n",
       "  'Publisher': 'Laurence King Publishing',\n",
       "  'Year': '2013',\n",
       "  'Pages': '208[209]',\n",
       "  'Language': 'English',\n",
       "  'Size': '17 Mb',\n",
       "  'Extension': 'pdf',\n",
       "  'Mirrors': ['https://library.bz/main/edit/EA91986CFFDC22DB217C736BD7AAB2FF']},\n",
       " {'Author': 'Laurence Harris , Jerry Coakley , Martin Croasdale , Trevor Evans',\n",
       "  'Title': 'New Perspectives on the Financial System 0709937415',\n",
       "  'Publisher': 'Croom Helm Ltd',\n",
       "  'Year': '1988',\n",
       "  'Pages': '[207]',\n",
       "  'Language': 'English',\n",
       "  'Size': '178 Mb',\n",
       "  'Extension': 'pdf',\n",
       "  'Mirrors': ['https://library.bz/main/edit/3B7B64B2914187D044366F8C7BCA45D7']},\n",
       " {'Author': 'C. Jane Evans, Laurence Jones, Peter Ellis',\n",
       "  'Title': 'BAR British Archaeological Reports British Series 313Severn Valley Ware Production at Newland Hopfields: Excavation of a Romano-British kiln site at North End Farm, Great Malvern, Worcestershire in 1992 and 1994 9781841712048, 9781407319490',\n",
       "  'Publisher': 'BAR Publishing',\n",
       "  'Year': '2000',\n",
       "  'Pages': '[97]',\n",
       "  'Language': 'English',\n",
       "  'Size': '14 Mb',\n",
       "  'Extension': 'pdf',\n",
       "  'Mirrors': ['https://library.bz/main/edit/C10F64DB0FDBF5659BF2BDBC43217786']}]"
      ]
     },
     "execution_count": 13,
     "metadata": {},
     "output_type": "execute_result"
    }
   ],
   "source": [
    "books_data"
   ]
  },
  {
   "cell_type": "code",
   "execution_count": null,
   "metadata": {},
   "outputs": [],
   "source": []
  },
  {
   "cell_type": "code",
   "execution_count": null,
   "metadata": {},
   "outputs": [],
   "source": []
  },
  {
   "cell_type": "code",
   "execution_count": null,
   "metadata": {},
   "outputs": [],
   "source": []
  }
 ],
 "metadata": {
  "kernelspec": {
   "display_name": "projects",
   "language": "python",
   "name": "python3"
  },
  "language_info": {
   "codemirror_mode": {
    "name": "ipython",
    "version": 3
   },
   "file_extension": ".py",
   "mimetype": "text/x-python",
   "name": "python",
   "nbconvert_exporter": "python",
   "pygments_lexer": "ipython3",
   "version": "3.10.13"
  }
 },
 "nbformat": 4,
 "nbformat_minor": 2
}
