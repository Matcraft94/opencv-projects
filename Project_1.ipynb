{
 "cells": [
  {
   "attachments": {},
   "cell_type": "markdown",
   "metadata": {},
   "source": [
    "# Proyecto 1"
   ]
  },
  {
   "cell_type": "code",
   "execution_count": null,
   "metadata": {},
   "outputs": [],
   "source": [
    "import os\n",
    "import glob"
   ]
  },
  {
   "cell_type": "code",
   "execution_count": null,
   "metadata": {},
   "outputs": [],
   "source": [
    "import cv2\n",
    "import numpy as np"
   ]
  },
  {
   "cell_type": "code",
   "execution_count": null,
   "metadata": {},
   "outputs": [],
   "source": [
    "def stitch_images(images, keypoints, descriptors, homographies):\n",
    "    # Crear una imagen vacía con el tamaño necesario para acomodar todas las imágenes alineadas\n",
    "    height, width, _ = images[0].shape\n",
    "    stitched_img = np.zeros((height, sum([img.shape[1] for img in images]), 3), dtype=np.uint8)\n",
    "\n",
    "    # Colocar la primera imagen en la imagen combinada\n",
    "    stitched_img[0:height, 0:width] = images[0]\n",
    "\n",
    "    # Aplicar las homografías para cada imagen y colocarla en la imagen combinada\n",
    "    for i in range(1, len(images)):\n",
    "        # Aplicar la transformación a la imagen\n",
    "        transformed_img = cv2.warpPerspective(images[i], np.linalg.inv(homographies[i-1]), (width * (i+1), height))\n",
    "\n",
    "        # Encontrar la región no negra de la imagen transformada\n",
    "        mask = np.all(transformed_img != [0, 0, 0], axis=-1)\n",
    "\n",
    "        # Combinar la imagen transformada con la imagen combinada\n",
    "        stitched_img[mask] = transformed_img[mask]\n",
    "\n",
    "    return stitched_img"
   ]
  },
  {
   "cell_type": "code",
   "execution_count": null,
   "metadata": {},
   "outputs": [],
   "source": [
    "# 1. Leer las imágenes del directorio\n",
    "path = 'images/*'\n",
    "images = [cv2.imread(file) for file in glob.glob(path)]"
   ]
  },
  {
   "cell_type": "code",
   "execution_count": null,
   "metadata": {},
   "outputs": [],
   "source": [
    "# 2. Encontrar características únicas en cada imagen\n",
    "sift = cv2.SIFT_create()\n",
    "\n",
    "keypoints = []\n",
    "descriptors = []\n",
    "\n",
    "for img in images:\n",
    "    kp, des = sift.detectAndCompute(img, None)\n",
    "    keypoints.append(kp)\n",
    "    descriptors.append(des)"
   ]
  },
  {
   "cell_type": "code",
   "execution_count": null,
   "metadata": {},
   "outputs": [],
   "source": [
    "# 3. Realizar un emparejamiento de características entre las imágenes\n",
    "matcher = cv2.BFMatcher()\n",
    "matches = []\n",
    "\n",
    "for i in range(len(images) - 1):\n",
    "    matches.append(matcher.knnMatch(descriptors[i], descriptors[i+1], k=2))"
   ]
  },
  {
   "cell_type": "code",
   "execution_count": null,
   "metadata": {},
   "outputs": [],
   "source": [
    "# 4. Utilizar la homografía para transformar las imágenes y alinearlas\n",
    "good_matches = []\n",
    "\n",
    "for match in matches:\n",
    "    good = []\n",
    "    for m, n in match:\n",
    "        if m.distance < 0.75 * n.distance:\n",
    "            good.append(m)\n",
    "    good_matches.append(good)\n",
    "\n",
    "homographies = []\n",
    "\n",
    "for i in range(len(good_matches)):\n",
    "    src_pts = np.float32([keypoints[i][m.queryIdx].pt for m in good_matches[i]]).reshape(-1, 1, 2)\n",
    "    dst_pts = np.float32([keypoints[i+1][m.trainIdx].pt for m in good_matches[i]]).reshape(-1, 1, 2)\n",
    "    M, _ = cv2.findHomography(src_pts, dst_pts, cv2.RANSAC, 5.0)\n",
    "    homographies.append(M)"
   ]
  },
  {
   "cell_type": "code",
   "execution_count": null,
   "metadata": {},
   "outputs": [],
   "source": [
    "# 5. Combinar las imágenes\n",
    "result = stitch_images(images, keypoints, descriptors, homographies)\n",
    "\n",
    "# 6. Guardar y mostrar la imagen panorámica completa\n",
    "cv2.imwrite('panorama.jpg', result)\n",
    "cv2.imshow('Panorama', result)\n",
    "cv2.waitKey(0)\n",
    "cv2.destroyAllWindows()"
   ]
  }
 ],
 "metadata": {
  "language_info": {
   "name": "python"
  },
  "orig_nbformat": 4
 },
 "nbformat": 4,
 "nbformat_minor": 2
}
